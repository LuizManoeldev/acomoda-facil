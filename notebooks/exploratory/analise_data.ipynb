{
 "cells": [
  {
   "cell_type": "code",
   "execution_count": null,
   "metadata": {},
   "outputs": [],
   "source": [
    "import pandas as pd\n",
    "import sys\n",
    "import matplotlib.pyplot as plt\n",
    "%matplotlib inline\n",
    "import seaborn as sns\n",
    "import numpy as np\n",
    "\n",
    "from pathlib import Path\n",
    "\n",
    "# Get root directory \n",
    "notebook_dir = Path.cwd()\n",
    "project_root = notebook_dir.parents[1]\n",
    "\n",
    "# Append project path to system path for module import\n",
    "sys.path.append(str(project_root / 'data' / 'raw'))"
   ]
  },
  {
   "cell_type": "code",
   "execution_count": null,
   "metadata": {},
   "outputs": [],
   "source": [
    "# Read the hotel reservations CSV file into a DataFrame\n",
    "base_hotel = pd.read_csv('../../data/raw/hotel_reservations.csv')\n",
    "# Drop 'Booking_ID' column\n",
    "base_hotel = base_hotel.drop(columns='Booking_ID')\n",
    "base_hotel"
   ]
  },
  {
   "cell_type": "code",
   "execution_count": null,
   "metadata": {},
   "outputs": [],
   "source": [
    "# Display descriptive statistics for numerical columns\n",
    "base_hotel.describe()"
   ]
  },
  {
   "cell_type": "code",
   "execution_count": null,
   "metadata": {},
   "outputs": [],
   "source": [
    "# Check for missing values in each column\n",
    "base_hotel.isnull().sum()"
   ]
  },
  {
   "cell_type": "code",
   "execution_count": null,
   "metadata": {},
   "outputs": [],
   "source": [
    "# Create dummy variables for categorical columns\n",
    "base_hotel_dummies = pd.get_dummies(base_hotel, columns=[\n",
    "        'type_of_meal_plan', 'room_type_reserved', \n",
    "        'market_segment_type', 'booking_status'\n",
    "    ])"
   ]
  },
  {
   "cell_type": "code",
   "execution_count": null,
   "metadata": {},
   "outputs": [],
   "source": [
    "# Calculate correlation matrix for the DataFrame with dummy variables\n",
    "base_hotel_dummies.corr()"
   ]
  },
  {
   "cell_type": "code",
   "execution_count": null,
   "metadata": {},
   "outputs": [],
   "source": [
    "# Calculate correlations between columns\n",
    "correlation_matrix = base_hotel_dummies.corr()\n",
    "print(correlation_matrix['avg_price_per_room'].sort_values(ascending=False))\n"
   ]
  },
  {
   "cell_type": "code",
   "execution_count": null,
   "metadata": {},
   "outputs": [],
   "source": [
    "# Scatter plot to visualize relationship between 'no_of_children' and 'avg_price_per_room'\n",
    "plt.scatter(base_hotel['no_of_children'], base_hotel['avg_price_per_room'])\n",
    "plt.xlabel('coluna_interessante')\n",
    "plt.ylabel('avg_price_per_room')\n",
    "plt.title('Relação entre coluna_interessante e avg_price_per_room')\n",
    "plt.show()\n"
   ]
  },
  {
   "cell_type": "code",
   "execution_count": null,
   "metadata": {},
   "outputs": [],
   "source": [
    "# Drop categorical columns from the original DataFrame\n",
    "base_hotel = base_hotel.drop(columns=['type_of_meal_plan', 'room_type_reserved', \n",
    "                                        'market_segment_type', 'booking_status'])"
   ]
  },
  {
   "cell_type": "code",
   "execution_count": null,
   "metadata": {},
   "outputs": [],
   "source": [
    "# Create a heatmap to visualize correlations between remaining columns\n",
    "figura = plt.figure(figsize=(10,10))\n",
    "sns.heatmap(base_hotel.corr(), annot = True)\n"
   ]
  }
 ],
 "metadata": {
  "kernelspec": {
   "display_name": "Python 3",
   "language": "python",
   "name": "python3"
  },
  "language_info": {
   "codemirror_mode": {
    "name": "ipython",
    "version": 3
   },
   "file_extension": ".py",
   "mimetype": "text/x-python",
   "name": "python",
   "nbconvert_exporter": "python",
   "pygments_lexer": "ipython3",
   "version": "3.9.0"
  }
 },
 "nbformat": 4,
 "nbformat_minor": 2
}

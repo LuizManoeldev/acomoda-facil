{
 "cells": [
  {
   "cell_type": "markdown",
   "metadata": {},
   "source": [
    "# Arquivo para treinamento do modelo, inferencias e testes"
   ]
  },
  {
   "cell_type": "code",
   "execution_count": 22,
   "metadata": {},
   "outputs": [],
   "source": [
    "# Adicionando diretorios ao path do python env - Usar como modelo para o seu projeto\n",
    "import sys\n",
    "sys.path.append('/home/luizdantas/sprints-4-5-pb-aws-maio')\n",
    "sys.path.append('/home/luizdantas/sprints-4-5-pb-aws-maio/data')\n",
    "sys.path.append('/home/luizdantas/sprints-4-5-pb-aws-maio/data/processed')\n",
    "sys.path.append('/home/luizdantas/sprints-4-5-pb-aws-maio/data/external')\n",
    "sys.path.append('/home/luizdantas/sprints-4-5-pb-aws-maio/notebooks')\n",
    "sys.path.append('/home/luizdantas/sprints-4-5-pb-aws-maio/notebooks/exploratory')\n",
    "sys.path.append('/home/luizdantas/sprints-4-5-pb-aws-maio/notebooks/modeling')"
   ]
  },
  {
   "cell_type": "code",
   "execution_count": null,
   "metadata": {},
   "outputs": [],
   "source": [
    "import pandas as pd \n",
    "import numpy as np\n",
    "from data.processed.data_prepare import prepared_base\n",
    "\n",
    "# Load data\n",
    "base_hotel = prepared_base\n",
    "base_hotel"
   ]
  },
  {
   "cell_type": "code",
   "execution_count": null,
   "metadata": {},
   "outputs": [],
   "source": [
    "# substituir booleanos\n",
    "base_hotel = base_hotel.apply(lambda col: col.astype(int) if col.dtype == 'bool' else col)"
   ]
  },
  {
   "cell_type": "code",
   "execution_count": null,
   "metadata": {},
   "outputs": [],
   "source": [
    "base_train = base_hotel.iloc[0:28000,:]\n",
    "base_test = base_hotel.iloc[28000:,:]"
   ]
  },
  {
   "cell_type": "code",
   "execution_count": null,
   "metadata": {},
   "outputs": [],
   "source": [
    "X_test = base_test.iloc[:,1:29].values\n",
    "y_test = base_test.iloc[:, 0].values"
   ]
  },
  {
   "cell_type": "code",
   "execution_count": null,
   "metadata": {},
   "outputs": [],
   "source": [
    "print(base_train.shape)\n",
    "print(base_test.shape)\n",
    "print(X_test.shape)\n",
    "print(y_test.shape)"
   ]
  },
  {
   "cell_type": "code",
   "execution_count": 19,
   "metadata": {},
   "outputs": [],
   "source": [
    "base_train_path = '../../data/raw/hotel_reservations_train_xgboost.csv'\n",
    "base_test_path = '../../data/raw/hotel_reservations_test_xgboost.csv'\n",
    "\n",
    "base_train.to_csv(base_train_path, header = False, index = False)\n",
    "base_test.to_csv(base_test_path, header = False, index = False)"
   ]
  },
  {
   "cell_type": "markdown",
   "metadata": {},
   "source": [
    "# Configurações SageMaker"
   ]
  },
  {
   "cell_type": "code",
   "execution_count": null,
   "metadata": {},
   "outputs": [],
   "source": [
    "import os\n",
    "from dotenv import load_dotenv\n",
    "\n",
    "load_dotenv()\n",
    "\n",
    "# Variaveis de ambiente\n",
    "profile_name = os.getenv(\"PROFILE_NAME\")\n",
    "role_arn = os.getenv(\"ROLE_ARN\")"
   ]
  },
  {
   "cell_type": "code",
   "execution_count": null,
   "metadata": {},
   "outputs": [],
   "source": [
    "import sagemaker\n",
    "import boto3\n",
    "from sagemaker import Session\n",
    "\n",
    "# create and configure sessions\n",
    "boto_session = boto3.Session(profile_name=profile_name)\n",
    "boto3.setup_default_session(profile_name=profile_name)\n",
    "session = sagemaker.Session(boto_session)\n",
    "role = role_arn\n",
    "\n",
    "# create bucket\n",
    "bucket_name = \"bucket-sprint5-compassuol\"\n",
    "s3_client = boto_session.client('s3')\n",
    "try:\n",
    "    response = s3_client.create_bucket(\n",
    "        Bucket=bucket_name\n",
    "    )\n",
    "    print(f\"Bucket '{bucket_name}' criado com sucesso.\")\n",
    "except s3_client.exceptions.BucketAlreadyOwnedByYou:\n",
    "    print(f\"O bucket '{bucket_name}' já existe e é de sua propriedade.\")\n",
    "except s3_client.exceptions.BucketAlreadyExists:\n",
    "    print(f\"O bucket '{bucket_name}' já existe, mas não é de sua propriedade.\")\n",
    "except Exception as e:\n",
    "    print(f\"Erro ao criar o bucket: {e}\")"
   ]
  },
  {
   "cell_type": "code",
   "execution_count": null,
   "metadata": {},
   "outputs": [],
   "source": [
    "subpasta_modelo = 'modelos/hotel-reservations/xgboost'\n",
    "subpasta_dataset = 'datasets/hotel-reservations'\n",
    "key_train = 'hotel-train-data-xgboost'\n",
    "key_test = 'hotel-test-data-xgboost'\n",
    "\n",
    "s3_train_data = 's3://{}/{}/train/{}'.format(bucket_name, subpasta_dataset, key_train)\n",
    "s3_test_data = 's3://{}/{}/test/{}'.format(bucket_name, subpasta_dataset, key_test)\n",
    "output_location = 's3://{}/{}/output'.format(bucket_name, subpasta_modelo)\n",
    "\n",
    "print(output_location)\n",
    "print(role_arn)\n",
    "print(profile_name)"
   ]
  },
  {
   "cell_type": "code",
   "execution_count": null,
   "metadata": {},
   "outputs": [],
   "source": [
    "import os\n",
    "with open(base_train_path, 'rb') as f:\n",
    "    s3_path = os.path.join(subpasta_dataset, 'train', key_train).replace('\\\\', '/')\n",
    "    boto_session.resource('s3').Bucket(bucket_name).Object(s3_path).upload_fileobj(f)\n",
    "    \n",
    "print(s3_path)"
   ]
  },
  {
   "cell_type": "code",
   "execution_count": null,
   "metadata": {},
   "outputs": [],
   "source": [
    "with open(base_test_path, 'rb') as f:\n",
    "    s3_path = os.path.join(subpasta_dataset, 'test', key_test).replace('\\\\', '/')\n",
    "    boto_session.resource('s3').Bucket(bucket_name).Object(s3_path).upload_fileobj(f)\n",
    "    \n",
    "print(s3_path)"
   ]
  },
  {
   "cell_type": "markdown",
   "metadata": {},
   "source": [
    "# Treinamento XGBoost"
   ]
  },
  {
   "cell_type": "code",
   "execution_count": null,
   "metadata": {},
   "outputs": [],
   "source": [
    "from sagemaker import image_uris\n",
    "container = image_uris.retrieve(framework = 'xgboost', region=boto3.Session().region_name, version='1.7-1')"
   ]
  },
  {
   "cell_type": "code",
   "execution_count": null,
   "metadata": {},
   "outputs": [],
   "source": [
    "params = {\n",
    "}"
   ]
  },
  {
   "cell_type": "code",
   "execution_count": null,
   "metadata": {},
   "outputs": [],
   "source": [
    "xgboost = sagemaker.estimator.Estimator(image_uri = container,\n",
    "                                        role = role,\n",
    "                                        instance_count = 1,\n",
    "                                        instance_type = 'ml.m5.large',\n",
    "                                        output_path = output_location,\n",
    "                                        sagemaker_session = session,\n",
    "                                        use_spot_instances = True,\n",
    "                                        max_run = 3600,\n",
    "                                        max_wait = 3600,\n",
    "                                        hyperparameters=params)"
   ]
  },
  {
   "cell_type": "code",
   "execution_count": null,
   "metadata": {},
   "outputs": [],
   "source": [
    "train_input = sagemaker.inputs.TrainingInput(s3_data = s3_train_data, content_type='csv', s3_data_type = 'S3Prefix')\n",
    "validation_input = sagemaker.inputs.TrainingInput(s3_data = s3_test_data, content_type='csv', s3_data_type = 'S3Prefix')\n",
    "data_channels = {'train': train_input, 'validation': validation_input}"
   ]
  },
  {
   "cell_type": "code",
   "execution_count": null,
   "metadata": {},
   "outputs": [],
   "source": [
    "job = 'XGBoost-Sprint5'\n",
    "xgboost.fit(data_channels, job_name=job)"
   ]
  },
  {
   "cell_type": "markdown",
   "metadata": {},
   "source": [
    "# Inferences"
   ]
  },
  {
   "cell_type": "code",
   "execution_count": null,
   "metadata": {},
   "outputs": [],
   "source": [
    "import xgboost as xgb\n",
    "\n",
    "\n",
    "model_file_key = 'modelos/hotel-reservations/xgboost/output/XGBoost-Sprint5/output/model.tar.gz'\n",
    "local_model_path = 'model.tar.gz'\n",
    "\n",
    "s3 = boto3.client('s3')\n",
    "s3.download_file(bucket_name, model_file_key, local_model_path)"
   ]
  },
  {
   "cell_type": "code",
   "execution_count": null,
   "metadata": {},
   "outputs": [],
   "source": [
    "import tarfile\n",
    "with tarfile.open(local_model_path, 'r:gz') as tar:\n",
    "    tar_list = tar.getnames()\n",
    "    print(\"Files in the tar archive:\", tar_list)\n",
    "    \n",
    "    # Extract all files\n",
    "    tar.extractall()\n",
    "\n",
    "\n",
    "model_file = 'xgboost-model'\n",
    "if os.path.exists(model_file):\n",
    "    with open(model_file, 'rb') as f:\n",
    "        file_header = f.read(4)\n",
    "        print(\"File header:\", file_header)"
   ]
  },
  {
   "cell_type": "code",
   "execution_count": null,
   "metadata": {},
   "outputs": [],
   "source": [
    "model_file = 'xgboost-model'\n",
    "\n",
    "# Load model\n",
    "model = xgb.Booster()\n",
    "model.load_model(model_file)"
   ]
  },
  {
   "cell_type": "code",
   "execution_count": null,
   "metadata": {},
   "outputs": [],
   "source": [
    "from sklearn.metrics import accuracy_score, classification_report, confusion_matrix\n",
    "import matplotlib.pyplot as plt\n",
    "import seaborn as sns\n",
    "\n",
    "dtest = xgb.DMatrix(X_test)\n",
    "previsoes = model.predict(dtest)\n",
    "\n",
    "# Arredondar previsões para o valor mais próximo\n",
    "previsoes_rounded = np.round(previsoes).astype(int)\n",
    "\n",
    "# Calcular e imprimir a acurácia\n",
    "accuracy = accuracy_score(y_test, previsoes_rounded)\n",
    "print(f'Acurácia: {accuracy * 100:.2f}%')\n",
    "\n",
    "# Relatório de classificação\n",
    "print(classification_report(y_test, previsoes_rounded))\n",
    "\n",
    "# Matriz de confusão\n",
    "conf_matrix = confusion_matrix(y_test, previsoes_rounded)\n",
    "plt.figure(figsize=(7, 4))\n",
    "sns.heatmap(conf_matrix, annot=True, fmt='d', cmap='Blues', xticklabels=[0, 1, 2], yticklabels=[0, 1, 2])\n",
    "plt.xlabel('Predicted Label')\n",
    "plt.ylabel('True Label')\n",
    "plt.title('Confusion Matrix')\n",
    "plt.show()"
   ]
  }
 ],
 "metadata": {
  "kernelspec": {
   "display_name": "Python 3",
   "language": "python",
   "name": "python3"
  },
  "language_info": {
   "codemirror_mode": {
    "name": "ipython",
    "version": 3
   },
   "file_extension": ".py",
   "mimetype": "text/x-python",
   "name": "python",
   "nbconvert_exporter": "python",
   "pygments_lexer": "ipython3",
   "version": "3.10.12"
  }
 },
 "nbformat": 4,
 "nbformat_minor": 2
}
